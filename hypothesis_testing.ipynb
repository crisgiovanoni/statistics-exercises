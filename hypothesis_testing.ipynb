{
 "cells": [
  {
   "cell_type": "markdown",
   "metadata": {},
   "source": [
    "For each of the following questions, formulate a null and alternative hypothesis (be as specific as you can be), then give an example of what a true positive, true negative, type I and type II errors would look like.\n",
    "\n",
    "Is the website redesign any good?\n",
    "Is our television ad driving more sales?\n",
    "Has the network latency gone up since we switched internet service providers?"
   ]
  },
  {
   "cell_type": "markdown",
   "metadata": {},
   "source": [
    "**Is the website redesign any good?**\n",
    "\n",
    "H0: The current website design does not affect the Average Session Duration of visitors. \n",
    "\n",
    "H1: The current website design affects the Average Session Duration of visitors"
   ]
  },
  {
   "cell_type": "markdown",
   "metadata": {},
   "source": [
    "**Is our television ad driving more sales?**\n",
    "\n",
    "H0: Our television ad does not increase our previous year sales by at least 10%.\n",
    "\n",
    "H1: Our television ad increase our previous year sales by at least 10%."
   ]
  },
  {
   "cell_type": "markdown",
   "metadata": {},
   "source": [
    "**Has the network latency gone up since we switched internet service providers?**\n",
    "\n",
    "H0: The new internet service provider does not slow down the internet.\n",
    "\n",
    "H1: The new internet service provider does slow down the internet."
   ]
  },
  {
   "cell_type": "code",
   "execution_count": null,
   "metadata": {},
   "outputs": [],
   "source": []
  }
 ],
 "metadata": {
  "kernelspec": {
   "display_name": "Python 3",
   "language": "python",
   "name": "python3"
  },
  "language_info": {
   "codemirror_mode": {
    "name": "ipython",
    "version": 3
   },
   "file_extension": ".py",
   "mimetype": "text/x-python",
   "name": "python",
   "nbconvert_exporter": "python",
   "pygments_lexer": "ipython3",
   "version": "3.7.3"
  }
 },
 "nbformat": 4,
 "nbformat_minor": 2
}
